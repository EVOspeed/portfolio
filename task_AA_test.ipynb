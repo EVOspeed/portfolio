{
 "cells": [
  {
   "cell_type": "markdown",
   "id": "62ddb218-44bd-4741-b379-6936c941348d",
   "metadata": {},
   "source": [
    "## Задание 5.1"
   ]
  },
  {
   "cell_type": "markdown",
   "id": "59d38434-45a4-42e5-bdba-86779b2b5b9b",
   "metadata": {},
   "source": [
    "На данных АА-теста с '2022-12-25' по '2022-12-31'. Нужно сделать симуляцию, как будто было проведено \n",
    "10000 АА-тестов. На каждой итерации вам нужно сформировать подвыборки без повторения в 500 юзеров из 2 и 3 экспериментальной группы. Провести сравнение этих подвыборок t-testом.\n",
    "\n",
    "1. Построить гистограмму распределения получившихся 10000 p-values.\n",
    "2. Посчитать, какой процент p values оказался меньше либо равен 0.05\n",
    "3. Написать вывод по проведенному АА-тесту, корректно ли работает наша система сплитования."
   ]
  },
  {
   "cell_type": "code",
   "execution_count": 2,
   "id": "43647dbc-9353-4c5d-80e8-e5d41cef2251",
   "metadata": {},
   "outputs": [],
   "source": [
    "# импорт необходимых библиотек\n",
    "\n",
    "import pandas as pd\n",
    "#import pandahouse\n",
    "#import hashlib\n",
    "import matplotlib.pyplot as plt\n",
    "import seaborn as sns\n",
    "from scipy import stats"
   ]
  },
  {
   "cell_type": "code",
   "execution_count": 3,
   "id": "590079fe-491e-4fb2-9eb4-e1ae02d881c1",
   "metadata": {},
   "outputs": [],
   "source": [
    "# Подключение БД\n",
    "\n",
    "connection = {'host': 'https://clickhouse.lab.karpov.courses',\n",
    "'password': 'dpo_python_2020',\n",
    "'user': 'student',\n",
    "'database': 'simulator'\n",
    "}\n",
    "\n",
    "# SQL Запрос на получение необходимых данных из БД\n",
    "\n",
    "query = '''\n",
    "SELECT \n",
    "  exp_group,\n",
    "  user_id,\n",
    "  COUNT(action) FILTER (WHERE action = 'like') AS \"likes\",\n",
    "  COUNT(action) FILTER (WHERE action = 'view') AS \"views\",\n",
    "  COUNT(action) FILTER (WHERE action = 'like') / \n",
    "  COUNT(action) FILTER (WHERE action = 'view') AS \"CTR\"\n",
    "FROM \n",
    "  simulator_20230120.feed_actions\n",
    "WHERE \n",
    "  exp_group IN (2, 3)\n",
    "  AND DATE(time) BETWEEN '2022-12-25' AND '2022-12-31'\n",
    "GROUP BY \n",
    "  exp_group,\n",
    "  user_id\n",
    "'''"
   ]
  },
  {
   "cell_type": "code",
   "execution_count": 4,
   "id": "6b323ac8-bbf3-4143-a445-295cf5eb4bd1",
   "metadata": {},
   "outputs": [],
   "source": [
    "# Формируем датафрейм из полученных данных\n",
    "\n",
    "df = pandahouse.read_clickhouse(query, connection=connection)"
   ]
  },
  {
   "cell_type": "code",
   "execution_count": 12,
   "id": "99ed64c4",
   "metadata": {},
   "outputs": [],
   "source": [
    "# Если нет доступа к базе данных.\n",
    "df = pd.read_csv('data_for_AA_test.csv', index_col='Unnamed: 0')"
   ]
  },
  {
   "cell_type": "code",
   "execution_count": 8,
   "id": "be643435-8fa1-4f30-9925-b556478629a8",
   "metadata": {},
   "outputs": [
    {
     "name": "stdout",
     "output_type": "stream",
     "text": [
      "<class 'pandas.core.frame.DataFrame'>\n",
      "Int64Index: 17049 entries, 0 to 17048\n",
      "Data columns (total 5 columns):\n",
      " #   Column     Non-Null Count  Dtype  \n",
      "---  ------     --------------  -----  \n",
      " 0   exp_group  17049 non-null  int64  \n",
      " 1   user_id    17049 non-null  int64  \n",
      " 2   likes      17049 non-null  int64  \n",
      " 3   views      17049 non-null  int64  \n",
      " 4   CTR        17049 non-null  float64\n",
      "dtypes: float64(1), int64(4)\n",
      "memory usage: 799.2 KB\n",
      "None\n"
     ]
    },
    {
     "data": {
      "text/html": [
       "<div>\n",
       "<style scoped>\n",
       "    .dataframe tbody tr th:only-of-type {\n",
       "        vertical-align: middle;\n",
       "    }\n",
       "\n",
       "    .dataframe tbody tr th {\n",
       "        vertical-align: top;\n",
       "    }\n",
       "\n",
       "    .dataframe thead th {\n",
       "        text-align: right;\n",
       "    }\n",
       "</style>\n",
       "<table border=\"1\" class=\"dataframe\">\n",
       "  <thead>\n",
       "    <tr style=\"text-align: right;\">\n",
       "      <th></th>\n",
       "      <th>exp_group</th>\n",
       "      <th>user_id</th>\n",
       "      <th>likes</th>\n",
       "      <th>views</th>\n",
       "      <th>CTR</th>\n",
       "    </tr>\n",
       "  </thead>\n",
       "  <tbody>\n",
       "    <tr>\n",
       "      <th>0</th>\n",
       "      <td>3</td>\n",
       "      <td>115383</td>\n",
       "      <td>11</td>\n",
       "      <td>36</td>\n",
       "      <td>0.305556</td>\n",
       "    </tr>\n",
       "  </tbody>\n",
       "</table>\n",
       "</div>"
      ],
      "text/plain": [
       "   exp_group  user_id  likes  views       CTR\n",
       "0          3   115383     11     36  0.305556"
      ]
     },
     "execution_count": 8,
     "metadata": {},
     "output_type": "execute_result"
    }
   ],
   "source": [
    "# Проверяем корректность сформированного датафрейма\n",
    "\n",
    "print(df.info())\n",
    "df.head(1)"
   ]
  },
  {
   "cell_type": "markdown",
   "id": "6625c9d0-f201-435b-bb0c-37c086ae725f",
   "metadata": {},
   "source": [
    "##### Данные содержат следующие столбцы:\n",
    "- номер тестовой группы пользователя (exp_group);\n",
    "- Id пользователя (user_id);\n",
    "- Кол-во лайков пользователя (likes);\n",
    "- Кол-во просмотренных постов пользователем (views);\n",
    "- Соотношение кол-ва лайков на просмотренные посты (CTR)."
   ]
  },
  {
   "cell_type": "code",
   "execution_count": 101,
   "id": "f4a4a7b2-a5f2-47e9-a5d5-d41077990d7b",
   "metadata": {},
   "outputs": [],
   "source": [
    "#def split_user (user_id, salt, n_group):\n",
    "#    salt_id = str(user_id) + '-' + str(salt)\n",
    "#    hash_id_salt = hashlib.md5(salt_id.encode('ascii')).hexdigest()\n",
    "#    hash_id_int = int(hash_id_salt, 16)\n",
    "#    return hash_id_int % n_group"
   ]
  },
  {
   "cell_type": "code",
   "execution_count": 9,
   "id": "ca9f8a75-4c4c-4c21-ae46-33a599d2621f",
   "metadata": {},
   "outputs": [
    {
     "data": {
      "text/plain": [
       "3    8569\n",
       "2    8480\n",
       "Name: exp_group, dtype: int64"
      ]
     },
     "execution_count": 9,
     "metadata": {},
     "output_type": "execute_result"
    }
   ],
   "source": [
    "# Посмотрим на равномерность распределения пользователей между необходимыми тестовыми группами.\n",
    "\n",
    "df.exp_group.value_counts()"
   ]
  },
  {
   "cell_type": "code",
   "execution_count": 10,
   "id": "3a168333-a1c9-4f83-b90c-9037d0ab8605",
   "metadata": {},
   "outputs": [
    {
     "data": {
      "image/png": "[encoded data removed]",
      "text/plain": [
       "<Figure size 1500x800 with 1 Axes>"
      ]
     },
     "metadata": {},
     "output_type": "display_data"
    },
    {
     "data": {
      "image/png": "[encoded data removed]",
      "text/plain": [
       "<Figure size 1500x500 with 1 Axes>"
      ]
     },
     "metadata": {},
     "output_type": "display_data"
    }
   ],
   "source": [
    "# Построим boxplot и гистограмму распределния интересущей нас метрики \"CTR\" с разделением на тестовые группы, чтобы визуально сравнить две выборки.\n",
    "\n",
    "plt.figure(figsize=(15, 8))\n",
    "sns.histplot(x=df.CTR, hue=df.exp_group, palette='spring')\n",
    "plt.show()\n",
    "\n",
    "plt.figure(figsize=(15, 5))\n",
    "sns.boxplot(x=df.CTR, y=df.exp_group, orient='h')\n",
    "plt.show()"
   ]
  },
  {
   "cell_type": "markdown",
   "id": "7dd62a77-97b6-4295-8637-bb51928427e3",
   "metadata": {},
   "source": [
    "##### В, интересующих нас, тестовых группах 2 и 3 содержится примерно равное кол-во пользователей, а именно 8480 и 8569 соответственно. При визуальном анализе графиков, можно сказать, что распределение CTR у пользователей в группах примерно равное."
   ]
  },
  {
   "cell_type": "code",
   "execution_count": 11,
   "id": "445f98f0-f42e-4007-a708-207f7721310d",
   "metadata": {},
   "outputs": [
    {
     "name": "stdout",
     "output_type": "stream",
     "text": [
      "Значение t-критерия = -0.74, p-value = 0.46.\n"
     ]
    }
   ],
   "source": [
    "# Расчитаем t-критерий Стьюдента.\n",
    "\n",
    "st, pvalue = stats.ttest_ind(a=df.CTR[df.exp_group == 2], b=df.CTR[df.exp_group == 3], equal_var=False)\n",
    "print(f'Значение t-критерия = {round(st, 2)}, p-value = {round(pvalue, 2)}.')"
   ]
  },
  {
   "cell_type": "markdown",
   "id": "9f93aa3e-e0af-4386-a3b4-2cade1ece5b9",
   "metadata": {},
   "source": [
    "При установленном уровне α = 5%, полученное значение p-value 0,46 - значительно привешающее уровень 0,05 не дает нам основания отвергнуть H0, а следовательно мы принимаем H0, котороая гласит о равенстве средних значений в сравниваемых выборках.\n",
    "    \n",
    "Теперь перейдем непосредственно к заданию. Необходимо из каждой выборки вытащить подвыборку размером в 500 наблюдений без повторения значений и сравнить полученные подвыборки t-критерием, и так 10 000 раз."
   ]
  },
  {
   "cell_type": "code",
   "execution_count": 9,
   "id": "a5d3acae-e3fb-4b02-8a35-32e38419fc86",
   "metadata": {},
   "outputs": [],
   "source": [
    "list_pvalue = []  # Создадим список, куда будем записывать значения p-value после каждого сравнения подвыборок.\n",
    "for i in range(10000):  # С помощью цикла произведем необходимые вычисления 10 000 раз. На вход функции дадим две подвыборки из 500 наблюдений без повторенийЮ затем добавим результат p-value в ранее созданный список.\n",
    "    st, pvalue = stats.ttest_ind(df.CTR[df.exp_group == 2].sample(500, replace=False),\\\n",
    "                                 df.CTR[df.exp_group == 3].sample(500, replace=False),\\\n",
    "                                 equal_var=False)\n",
    "    list_pvalue.append(pvalue)"
   ]
  },
  {
   "cell_type": "code",
   "execution_count": 10,
   "id": "864d2157-c851-4723-a9e6-17c5d830467f",
   "metadata": {},
   "outputs": [],
   "source": [
    "# Преобразуем список p-value в датафрейм.\n",
    "\n",
    "df_pvalue = pd.DataFrame(list_pvalue, columns={'p_value'})"
   ]
  },
  {
   "cell_type": "code",
   "execution_count": 11,
   "id": "6b88c41b-5b03-491f-9209-0b3a23a5bf68",
   "metadata": {},
   "outputs": [
    {
     "name": "stdout",
     "output_type": "stream",
     "text": [
      "<class 'pandas.core.frame.DataFrame'>\n",
      "RangeIndex: 10000 entries, 0 to 9999\n",
      "Data columns (total 1 columns):\n",
      " #   Column   Non-Null Count  Dtype  \n",
      "---  ------   --------------  -----  \n",
      " 0   p_value  10000 non-null  float64\n",
      "dtypes: float64(1)\n",
      "memory usage: 78.2 KB\n"
     ]
    }
   ],
   "source": [
    "# Проверим датафрейм, что он действительно содержит 10 000 значений.\n",
    "\n",
    "df_pvalue.info()"
   ]
  },
  {
   "cell_type": "code",
   "execution_count": 12,
   "id": "2030a55d-6b31-42b6-ab32-a0e6ad8d497e",
   "metadata": {},
   "outputs": [
    {
     "data": {
      "image/png": "[encoded data removed]",
      "text/plain": [
       "<Figure size 720x576 with 1 Axes>"
      ]
     },
     "metadata": {
      "needs_background": "light"
     },
     "output_type": "display_data"
    }
   ],
   "source": [
    "# Построим гистограмму распределения значений p-value.\n",
    "\n",
    "plt.figure(figsize=(10, 8))\n",
    "sns.histplot(x=df_pvalue.p_value * 100, bins=50)\n",
    "plt.show()"
   ]
  },
  {
   "cell_type": "code",
   "execution_count": 13,
   "id": "acadcb9e-33d4-4be6-bee5-f4ab0e3ae59c",
   "metadata": {},
   "outputs": [
    {
     "name": "stdout",
     "output_type": "stream",
     "text": [
      "Доля p-value меньших или равных установленому α = 4.3999999999999995%.\n"
     ]
    }
   ],
   "source": [
    "# Расчитаем долю p-value меньших или равных уровню 0,05.\n",
    "\n",
    "print(f'Доля p-value меньших или равных установленому α = {len(df_pvalue[df_pvalue.p_value <= 0.05]) / len(df_pvalue) * 100}%.')"
   ]
  },
  {
   "cell_type": "markdown",
   "id": "919579d2-a987-4062-a9e9-31ec4116b7a2",
   "metadata": {
    "tags": []
   },
   "source": [
    "### На основании полученных результатов t-критерия и p-value при сравнении выборок как целиком, так и при сравнении подвыборок из 500 наблюдений (10 000 раз повторений) Мы с уверенностью соглашаемся с  Н0 (нулевая гепотиза) о том, что среднии значения выборок равны. Значение p-value, позволяющее отклонить Н0 и принять Н1 (среднии значения выборок отличаются) появилось не более чем в 4,39% случаев при прогонки теста 10 000 раз, что не привышает установленный уровень α. Следовательно можно утверждать, что система сплитования сработала корректно и на полученных группах можно проводить дальнейшее АВ тестирование."
   ]
  }
 ],
 "metadata": {
  "kernelspec": {
   "display_name": "Python 3 (ipykernel)",
   "language": "python",
   "name": "python3"
  },
  "language_info": {
   "codemirror_mode": {
    "name": "ipython",
    "version": 3
   },
   "file_extension": ".py",
   "mimetype": "text/x-python",
   "name": "python",
   "nbconvert_exporter": "python",
   "pygments_lexer": "ipython3",
   "version": "3.9.13"
  }
 },
 "nbformat": 4,
 "nbformat_minor": 5
}
