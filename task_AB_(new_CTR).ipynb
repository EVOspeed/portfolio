{
 "cells": [
  {
   "cell_type": "markdown",
   "id": "8da90051-aa42-47ed-8d36-f533678ea459",
   "metadata": {},
   "source": [
    "### Задание 5.3\n",
    "\n",
    "Проанализируйте тест между группами 0 и 3 по метрике линеаризованных лайков. Видно ли отличие? Стало ли 𝑝−𝑣𝑎𝑙𝑢𝑒 меньше?\n",
    "Проанализируйте тест между группами 1 и 2 по метрике линеаризованных лайков. Видно ли отличие? Стало ли 𝑝−𝑣𝑎𝑙𝑢𝑒 меньше?"
   ]
  },
  {
   "cell_type": "code",
   "execution_count": 2,
   "id": "850fd351-8651-444e-805e-21421fd2ee76",
   "metadata": {},
   "outputs": [],
   "source": [
    "# импортируем необходимые библиотеки\n",
    "\n",
    "import pandas as pd\n",
    "#import pandahouse\n",
    "import matplotlib.pyplot as plt\n",
    "import seaborn as sns\n",
    "from scipy import stats\n",
    "import numpy as np"
   ]
  },
  {
   "cell_type": "code",
   "execution_count": 67,
   "id": "30d7a878-4011-4b03-8bf8-61bdaea33770",
   "metadata": {},
   "outputs": [],
   "source": [
    "# Подключение БД\n",
    "\n",
    "connection = {'host': 'https://clickhouse.lab.karpov.courses',\n",
    "'password': 'dpo_python_2020',\n",
    "'user': 'student',\n",
    "'database': 'simulator'\n",
    "}\n",
    "\n",
    "# SQL Запрос на получение необходимых данных из БД\n",
    "'''Учитывая, что в задании 5.3 конкретного периода за который необходимо формировать выборки нет,\n",
    "но есть группы, которые необходимо сравнить (0 и 3; 1 и 2). Смею предположить, что период аналогичный \n",
    "заданию 5.2\n",
    "'''\n",
    "\n",
    "query = '''\n",
    "SELECT \n",
    "  exp_group,\n",
    "  user_id,\n",
    "  COUNT(action) FILTER (WHERE action = 'like') AS \"likes\",\n",
    "  COUNT(action) FILTER (WHERE action = 'view') AS \"views\",\n",
    "  COUNT(action) FILTER (WHERE action = 'like') /\n",
    "  COUNT(action) FILTER (WHERE action = 'view') AS \"CTR\"\n",
    "FROM \n",
    "  simulator_20230120.feed_actions\n",
    "WHERE \n",
    "  exp_group IN (0, 1, 2, 3)\n",
    "  AND DATE(time) BETWEEN '2023-01-01' AND '2023-01-07'\n",
    "GROUP BY \n",
    "  exp_group,\n",
    "  user_id\n",
    "'''"
   ]
  },
  {
   "cell_type": "code",
   "execution_count": 68,
   "id": "13188096-049f-4d6d-a679-b5f52f670791",
   "metadata": {},
   "outputs": [],
   "source": [
    "# Датафрейм из полученных данных\n",
    "\n",
    "df = pandahouse.read_clickhouse(query=query, connection=connection)"
   ]
  },
  {
   "cell_type": "code",
   "execution_count": 3,
   "id": "dbf679b1",
   "metadata": {},
   "outputs": [],
   "source": [
    "df = pd.read_csv('data_for_5.3.csv')"
   ]
  },
  {
   "cell_type": "code",
   "execution_count": 69,
   "id": "132c8e15-ac76-47c1-b261-871cd6486a00",
   "metadata": {},
   "outputs": [],
   "source": [
    "# Создадим два датафрейма для сравнения соответствующих групп\n",
    "\n",
    "df_0_3 = df[(df.exp_group == 0) | (df.exp_group == 3)]\n",
    "df_1_2 = df[(df.exp_group == 1) | (df.exp_group == 2)]"
   ]
  },
  {
   "cell_type": "markdown",
   "id": "53a972b9-47cc-4831-8fdf-2f7f231bb410",
   "metadata": {},
   "source": [
    "Для сравнения групп между собой, необходимо использовать поюзерную метрику линеаризованных лайков. Которая рассчитывается по формуле: \n",
    "\n",
    "LL=likes-CTR(в контрольной группе) * views.\n",
    "\n",
    "Так как в формуле участвует CTR контрольной группы, рассчитаем его (контрольными группами являются 0 и 1)."
   ]
  },
  {
   "cell_type": "code",
   "execution_count": 71,
   "id": "52674ff4-3e35-4d81-9004-fb288b8de91e",
   "metadata": {},
   "outputs": [],
   "source": [
    "# CTR для каждой из контрольных групп, запищим в соответствующие переменные.\n",
    "\n",
    "CTR0 = df_0_3.likes[df_0_3.exp_group == 0].sum() / df_0_3.views[df_0_3.exp_group == 0].sum()\n",
    "CTR1 = df_1_2.likes[df_1_2.exp_group == 1].sum() / df_1_2.views[df_1_2.exp_group == 1].sum()"
   ]
  },
  {
   "cell_type": "code",
   "execution_count": 72,
   "id": "492e863e-9601-400a-98c8-842922f43dd1",
   "metadata": {},
   "outputs": [],
   "source": [
    "# Напишим функцию, которая будет считать метрику по заданной формуле.\n",
    "\n",
    "def lin_likes(row):\n",
    "    if row[0] in (0, 3):\n",
    "        return row[2] - CTR0 * row[3]\n",
    "    else:\n",
    "        return row[2] - CTR1 * row[3]"
   ]
  },
  {
   "cell_type": "code",
   "execution_count": 73,
   "id": "54fa253d-d277-4fdf-9848-2d73b23b1478",
   "metadata": {},
   "outputs": [
    {
     "name": "stderr",
     "output_type": "stream",
     "text": [
      "/tmp/ipykernel_45/4161973054.py:3: SettingWithCopyWarning: \n",
      "A value is trying to be set on a copy of a slice from a DataFrame.\n",
      "Try using .loc[row_indexer,col_indexer] = value instead\n",
      "\n",
      "See the caveats in the documentation: https://pandas.pydata.org/pandas-docs/stable/user_guide/indexing.html#returning-a-view-versus-a-copy\n",
      "  df_1_2['linearized_likes'] = df_1_2.apply(lambda x: lin_likes(x), axis=1)\n",
      "/tmp/ipykernel_45/4161973054.py:4: SettingWithCopyWarning: \n",
      "A value is trying to be set on a copy of a slice from a DataFrame.\n",
      "Try using .loc[row_indexer,col_indexer] = value instead\n",
      "\n",
      "See the caveats in the documentation: https://pandas.pydata.org/pandas-docs/stable/user_guide/indexing.html#returning-a-view-versus-a-copy\n",
      "  df_0_3['linearized_likes'] = df_0_3.apply(lambda x: lin_likes(x), axis=1)\n"
     ]
    }
   ],
   "source": [
    "# С помощью функции посчитаем линеаризованные лайки для каждого пользователя в датафреймах.\n",
    "\n",
    "df_1_2['linearized_likes'] = df_1_2.apply(lambda x: lin_likes(x), axis=1)\n",
    "df_0_3['linearized_likes'] = df_0_3.apply(lambda x: lin_likes(x), axis=1)"
   ]
  },
  {
   "cell_type": "markdown",
   "id": "253e1b5e-9177-4ec9-afbe-6c3c4f5baa45",
   "metadata": {},
   "source": [
    "Проанализируем t-тестом различия в выборках у 0 и 3 группы по мертрике линеаризованных лайков."
   ]
  },
  {
   "cell_type": "code",
   "execution_count": 74,
   "id": "4df9fb64-cbb3-4259-88f6-7f1b858f6f9b",
   "metadata": {},
   "outputs": [
    {
     "data": {
      "image/png": "[encoded data removed]",
      "text/plain": [
       "<Figure size 432x288 with 1 Axes>"
      ]
     },
     "metadata": {
      "needs_background": "light"
     },
     "output_type": "display_data"
    },
    {
     "data": {
      "image/png": "[encoded data removed]",
      "text/plain": [
       "<Figure size 432x288 with 1 Axes>"
      ]
     },
     "metadata": {
      "needs_background": "light"
     },
     "output_type": "display_data"
    }
   ],
   "source": [
    "# Построим частотные графики интересующих нас метрик.\n",
    "\n",
    "sns.histplot(x=df_0_3.linearized_likes, hue=df_0_3.exp_group, palette='spring')\n",
    "plt.show()\n",
    "sns.histplot(x=df_0_3.CTR, hue=df_0_3.exp_group, palette='summer')\n",
    "plt.show()"
   ]
  },
  {
   "cell_type": "code",
   "execution_count": 75,
   "id": "3cd6e631-0944-4722-b710-59be201179c9",
   "metadata": {},
   "outputs": [
    {
     "name": "stdout",
     "output_type": "stream",
     "text": [
      "P-value в первом случае = 5.4914249479690016e-52;\n",
      "p-value во втором случае = 1.055849414662529e-43.\n"
     ]
    }
   ],
   "source": [
    "# t-тест по линеаризованным лайкам и CTR\n",
    "\n",
    "st, pv = stats.ttest_ind(df_0_3.linearized_likes[df_0_3.exp_group == 0],\n",
    "                df_0_3.linearized_likes[df_0_3.exp_group == 3],\n",
    "                equal_var=False)\n",
    "st1, pv1 = stats.ttest_ind(df_0_3.CTR[df_0_3.exp_group == 0],\n",
    "                df_0_3.CTR[df_0_3.exp_group == 3],\n",
    "                equal_var=False)\n",
    "print(f'P-value в первом случае = {pv};\\n\\\n",
    "p-value во втором случае = {pv1}.')"
   ]
  },
  {
   "cell_type": "markdown",
   "id": "da269970-369a-4d11-9ec0-15ab0feb4964",
   "metadata": {},
   "source": [
    "В обоих случаях p-value очень мал, значительно меньше α = 0.05, что позволяет отколонить нулевую гипотезу о равенстве средних значений между выборками. Но стоит признать, что в случает с линеаризованными лайками p-value оказался меньше.\n",
    "\n",
    "Так как мы хотим заметить увеличение показателя, можно использовать одностороннюю гипотезу: \n",
    "- Н0 - показатель в группе 3 <= показателю в группе 0; \n",
    "- Н1 - показатель в группе 3 > показателя в группе 0."
   ]
  },
  {
   "cell_type": "code",
   "execution_count": 59,
   "id": "d7116144-9e1f-4d9c-9578-a54884f647d7",
   "metadata": {},
   "outputs": [
    {
     "name": "stdout",
     "output_type": "stream",
     "text": [
      "P-value в первом случае = 2.7457124739845008e-52;\n",
      "p-value во втором случае = 5.279247073312645e-44.\n"
     ]
    }
   ],
   "source": [
    "st, pv = stats.ttest_ind(df_0_3.linearized_likes[df_0_3.exp_group == 3],\n",
    "                         df_0_3.linearized_likes[df_0_3.exp_group == 0],\n",
    "                         equal_var=False, alternative='greater')\n",
    "st1, pv1 = stats.ttest_ind(df_0_3.CTR[df_0_3.exp_group == 3],\n",
    "                           df_0_3.CTR[df_0_3.exp_group == 0],\n",
    "                           equal_var=False, alternative='greater')\n",
    "print(f'P-value в первом случае = {pv};\\n\\\n",
    "p-value во втором случае = {pv1}.')"
   ]
  },
  {
   "cell_type": "markdown",
   "id": "c5b28c03-f12d-4787-a9e7-a5a518778da0",
   "metadata": {},
   "source": [
    "Результаты в обоих случаях позволяют отвергнуть Н0 и принять альтернативную гипотезу о том, что значение в группе 3 больше, чем в группе 0. При этом p-value с линеаризованными лайками снова оказался меньше."
   ]
  },
  {
   "cell_type": "markdown",
   "id": "01226633-30ac-4ff8-8764-23b802549483",
   "metadata": {},
   "source": [
    "Теперь, аналогичным образом проанализируем t-тестом различия в выборках у 1 и 2 группы по мертрике линеаризованных лайков."
   ]
  },
  {
   "cell_type": "code",
   "execution_count": 76,
   "id": "8c97b38f-9abb-461a-b369-f5867f822c4d",
   "metadata": {},
   "outputs": [
    {
     "data": {
      "image/png": "[encoded data removed]",
      "text/plain": [
       "<Figure size 432x288 with 1 Axes>"
      ]
     },
     "metadata": {
      "needs_background": "light"
     },
     "output_type": "display_data"
    },
    {
     "data": {
      "image/png": "[encoded data removed]",
      "text/plain": [
       "<Figure size 432x288 with 1 Axes>"
      ]
     },
     "metadata": {
      "needs_background": "light"
     },
     "output_type": "display_data"
    }
   ],
   "source": [
    "sns.histplot(x=df_1_2.linearized_likes, hue=df_1_2.exp_group)\n",
    "plt.show()\n",
    "sns.histplot(x=df_1_2.CTR, hue=df_1_2.exp_group)\n",
    "plt.show()"
   ]
  },
  {
   "cell_type": "code",
   "execution_count": 77,
   "id": "cd0f8593-7bc9-49e0-864d-1d5824a7333d",
   "metadata": {},
   "outputs": [
    {
     "name": "stdout",
     "output_type": "stream",
     "text": [
      "P-value в первом случае = 9.439432187037644e-10;\n",
      "p-value во втором случае = 0.4780623130874935.\n"
     ]
    }
   ],
   "source": [
    "# t-тест по линеаризованным лайкам и CTR\n",
    "\n",
    "st, pv = stats.ttest_ind(df_1_2.linearized_likes[df_1_2.exp_group == 1],\n",
    "                         df_1_2.linearized_likes[df_1_2.exp_group == 2],\n",
    "                         equal_var=False)\n",
    "st1, pv1 = stats.ttest_ind(df_1_2.CTR[df_1_2.exp_group == 1],\n",
    "                           df_1_2.CTR[df_1_2.exp_group == 2],\n",
    "                           equal_var=False)\n",
    "print(f'P-value в первом случае = {pv};\\n\\\n",
    "p-value во втором случае = {pv1}.')"
   ]
  },
  {
   "cell_type": "markdown",
   "id": "938aba3a-e0b0-4b2c-93ef-dc062e68b149",
   "metadata": {},
   "source": [
    "В случае с линеаризованными лайками, мы получили значение p-value ниже α, что позволяет отклонить нулевую гипотезу, тогда как в случае с CTR мы должны принять Н0. Но в случае с CTR t-тест не корректно использовать."
   ]
  },
  {
   "cell_type": "code",
   "execution_count": 78,
   "id": "82595480-a477-4c4c-867a-97d0c1abf3fc",
   "metadata": {},
   "outputs": [
    {
     "data": {
      "text/plain": [
       "Ttest_indResult(statistic=6.122579994775974, pvalue=0.9999999995280284)"
      ]
     },
     "execution_count": 78,
     "metadata": {},
     "output_type": "execute_result"
    }
   ],
   "source": [
    "stats.ttest_ind(df_1_2.linearized_likes[df_1_2.exp_group == 1],\n",
    "                df_1_2.linearized_likes[df_1_2.exp_group == 2],\n",
    "                equal_var=False, alternative='less')"
   ]
  },
  {
   "cell_type": "code",
   "execution_count": 79,
   "id": "474991ca-8efc-4f98-a5f5-83c0e71b31c2",
   "metadata": {},
   "outputs": [
    {
     "data": {
      "text/plain": [
       "Ttest_indResult(statistic=6.122579994775974, pvalue=4.719716093518822e-10)"
      ]
     },
     "execution_count": 79,
     "metadata": {},
     "output_type": "execute_result"
    }
   ],
   "source": [
    "stats.ttest_ind(df_1_2.linearized_likes[df_1_2.exp_group == 1],\n",
    "                df_1_2.linearized_likes[df_1_2.exp_group == 2],\n",
    "                equal_var=False, alternative='greater')"
   ]
  },
  {
   "cell_type": "markdown",
   "id": "a97d0b87-17c3-461e-80cb-aab91107f909",
   "metadata": {},
   "source": [
    "На данном примере, метрика лениаризованных лайков нам позволяет сказать, что среднее значение лайков в контрольной группе больше, чем в тестовой (что мы и подтвердили в задании 5.2), тогда, как t-тест на CTR выдавал бы не интерпретируемые результаты"
   ]
  }
 ],
 "metadata": {
  "kernelspec": {
   "display_name": "Python 3 (ipykernel)",
   "language": "python",
   "name": "python3"
  },
  "language_info": {
   "codemirror_mode": {
    "name": "ipython",
    "version": 3
   },
   "file_extension": ".py",
   "mimetype": "text/x-python",
   "name": "python",
   "nbconvert_exporter": "python",
   "pygments_lexer": "ipython3",
   "version": "3.9.13"
  }
 },
 "nbformat": 4,
 "nbformat_minor": 5
}
