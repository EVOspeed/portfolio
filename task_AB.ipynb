{
 "cells": [
  {
   "cell_type": "markdown",
   "id": "7598b8e0-d18a-4952-a5da-f63bcb376513",
   "metadata": {},
   "source": [
    "## Задание 5.2"
   ]
  },
  {
   "cell_type": "markdown",
   "id": "45163735-a87b-4b80-bba7-487cf09d1544",
   "metadata": {},
   "source": [
    "В группе 2 был использован один из новых алгоритмов рекомендации постов, группа 1 использовалась в качестве контроля. \n",
    "\n",
    "Основная гипотеза заключается в том, что новый алгоритм во 2-й группе приведет к увеличению CTR. \n",
    "\n",
    "Ваша задача — проанализировать данные АB-теста./\n",
    "\n",
    "Выбрать метод анализа и сравнить CTR в двух группах.\n",
    "Сравните данные тестами. А еще посмотрите на распределения глазами. Почему тесты сработали так как сработали? \n",
    "Опишите потенциальную ситуацию, когда такое изменение могло произойти. Тут нет идеального ответа, подумайте.\n",
    "Напишите рекомендацию, будем ли мы раскатывать новый алгоритм на всех новых пользователей или все-таки не стоит."
   ]
  },
  {
   "cell_type": "code",
   "execution_count": 1,
   "id": "b65f852c-5118-43f2-9021-214831cc118b",
   "metadata": {},
   "outputs": [],
   "source": [
    "# импортируем необходимые библиотеки\n",
    "\n",
    "import pandas as pd\n",
    "#import pandahouse\n",
    "import matplotlib.pyplot as plt\n",
    "import seaborn as sns\n",
    "from scipy import stats\n",
    "import numpy as np"
   ]
  },
  {
   "cell_type": "code",
   "execution_count": 2,
   "id": "b10c286a-aa1e-44d0-bbdd-6d6a70b6228b",
   "metadata": {},
   "outputs": [],
   "source": [
    "# Подключение БД\n",
    "\n",
    "connection = {'host': 'https://clickhouse.lab.karpov.courses',\n",
    "'password': 'dpo_python_2020',\n",
    "'user': 'student',\n",
    "'database': 'simulator'\n",
    "}\n",
    "\n",
    "# SQL Запрос на получение необходимых данных из БД\n",
    "\n",
    "query = '''\n",
    "SELECT \n",
    "  exp_group,\n",
    "  user_id,\n",
    "  COUNT(action) FILTER (WHERE action = 'like') AS \"likes\",\n",
    "  COUNT(action) FILTER (WHERE action = 'view') AS \"views\",\n",
    "  COUNT(action) FILTER (WHERE action = 'like') / \n",
    "  COUNT(action) FILTER (WHERE action = 'view') AS \"CTR\"\n",
    "FROM \n",
    "  simulator_20230120.feed_actions\n",
    "WHERE \n",
    "  exp_group IN (2, 1)\n",
    "  AND DATE(time) BETWEEN '2023-01-01' AND '2023-01-07'\n",
    "GROUP BY \n",
    "  exp_group,\n",
    "  user_id\n",
    "'''"
   ]
  },
  {
   "cell_type": "code",
   "execution_count": 3,
   "id": "99e2ef54-89d1-4e4c-91dd-27a1f14bfda8",
   "metadata": {},
   "outputs": [],
   "source": [
    "df = pandahouse.read_clickhouse(query=query, connection=connection)"
   ]
  },
  {
   "cell_type": "code",
   "execution_count": 2,
   "id": "144d2803",
   "metadata": {},
   "outputs": [],
   "source": [
    "df = pd.read_csv('data_for_AB_test.csv')"
   ]
  },
  {
   "cell_type": "code",
   "execution_count": 4,
   "id": "74bea7c0-9502-491c-a358-96f2150fcdad",
   "metadata": {},
   "outputs": [
    {
     "name": "stdout",
     "output_type": "stream",
     "text": [
      "<class 'pandas.core.frame.DataFrame'>\n",
      "RangeIndex: 20031 entries, 0 to 20030\n",
      "Data columns (total 5 columns):\n",
      " #   Column     Non-Null Count  Dtype  \n",
      "---  ------     --------------  -----  \n",
      " 0   exp_group  20031 non-null  int64  \n",
      " 1   user_id    20031 non-null  int64  \n",
      " 2   likes      20031 non-null  int64  \n",
      " 3   views      20031 non-null  int64  \n",
      " 4   CTR        20031 non-null  float64\n",
      "dtypes: float64(1), int64(4)\n",
      "memory usage: 782.6 KB\n",
      "None\n"
     ]
    },
    {
     "data": {
      "text/html": [
       "<div>\n",
       "<style scoped>\n",
       "    .dataframe tbody tr th:only-of-type {\n",
       "        vertical-align: middle;\n",
       "    }\n",
       "\n",
       "    .dataframe tbody tr th {\n",
       "        vertical-align: top;\n",
       "    }\n",
       "\n",
       "    .dataframe thead th {\n",
       "        text-align: right;\n",
       "    }\n",
       "</style>\n",
       "<table border=\"1\" class=\"dataframe\">\n",
       "  <thead>\n",
       "    <tr style=\"text-align: right;\">\n",
       "      <th></th>\n",
       "      <th>exp_group</th>\n",
       "      <th>user_id</th>\n",
       "      <th>likes</th>\n",
       "      <th>views</th>\n",
       "      <th>CTR</th>\n",
       "    </tr>\n",
       "  </thead>\n",
       "  <tbody>\n",
       "    <tr>\n",
       "      <th>0</th>\n",
       "      <td>1</td>\n",
       "      <td>109963</td>\n",
       "      <td>3</td>\n",
       "      <td>15</td>\n",
       "      <td>0.2</td>\n",
       "    </tr>\n",
       "  </tbody>\n",
       "</table>\n",
       "</div>"
      ],
      "text/plain": [
       "   exp_group  user_id  likes  views  CTR\n",
       "0          1   109963      3     15  0.2"
      ]
     },
     "execution_count": 4,
     "metadata": {},
     "output_type": "execute_result"
    }
   ],
   "source": [
    "print(df.info())\n",
    "df.head(1)"
   ]
  },
  {
   "cell_type": "code",
   "execution_count": 5,
   "id": "21c08c47-2734-4f5c-a074-dd2a46e753b3",
   "metadata": {},
   "outputs": [
    {
     "data": {
      "text/plain": [
       "1    10079\n",
       "2     9952\n",
       "Name: exp_group, dtype: int64"
      ]
     },
     "execution_count": 5,
     "metadata": {},
     "output_type": "execute_result"
    }
   ],
   "source": [
    "df.exp_group.value_counts()"
   ]
  },
  {
   "cell_type": "markdown",
   "id": "f719a9e3-9efb-4248-b054-be6a79f781df",
   "metadata": {},
   "source": [
    "##### Данные содержат следующие столбцы:\n",
    "- номер тестовой группы пользователя (exp_group);\n",
    "- Id пользователя (user_id);\n",
    "- Кол-во лайков пользователя (likes);\n",
    "- Кол-во просмотренных постов пользователем (views);\n",
    "- Соотношение кол-ва лайков на просмотренные посты (CTR)."
   ]
  },
  {
   "cell_type": "code",
   "execution_count": 6,
   "id": "309313a3-a686-4a87-bada-cc9bbf56a9c6",
   "metadata": {},
   "outputs": [
    {
     "data": {
      "text/plain": [
       "count    10079.000000\n",
       "mean         0.215605\n",
       "std          0.084160\n",
       "min          0.000000\n",
       "25%          0.160097\n",
       "50%          0.203125\n",
       "75%          0.257654\n",
       "max          0.722222\n",
       "Name: CTR, dtype: float64"
      ]
     },
     "execution_count": 6,
     "metadata": {},
     "output_type": "execute_result"
    }
   ],
   "source": [
    "df.CTR[df.exp_group == 1].describe()"
   ]
  },
  {
   "cell_type": "code",
   "execution_count": 7,
   "id": "690faaba-d997-4750-9524-d2aa1c238da6",
   "metadata": {},
   "outputs": [
    {
     "data": {
      "text/plain": [
       "count    9952.000000\n",
       "mean        0.214419\n",
       "std         0.144180\n",
       "min         0.000000\n",
       "25%         0.095238\n",
       "50%         0.142857\n",
       "75%         0.325000\n",
       "max         0.923077\n",
       "Name: CTR, dtype: float64"
      ]
     },
     "execution_count": 7,
     "metadata": {},
     "output_type": "execute_result"
    }
   ],
   "source": [
    "df.CTR[df.exp_group == 2].describe()"
   ]
  },
  {
   "cell_type": "markdown",
   "id": "d86ddcb5-9cee-42b2-a496-0b5c6e977edc",
   "metadata": {},
   "source": [
    "Исходя из описательной статистики видно, что метрика в группе 2 имеет большую изменчивость. О чем может свидетельствовать высокое среднеквадратическое отклонение относительно средней велечины, большая разница между средним и медианным значением, можно предположить что распределение значений в выборке имеет значительный скос в правую сторону, что и повлекло за собой увеличение средней величины и среднеквадратического отклонения. "
   ]
  },
  {
   "cell_type": "code",
   "execution_count": 17,
   "id": "1216d787-8b8b-4d25-871f-1cd3d8c87f84",
   "metadata": {},
   "outputs": [
    {
     "name": "stdout",
     "output_type": "stream",
     "text": [
      "Коэффициент ассиметрии выборки CTR, 2 группа = 0.8346301249835315;\n",
      "Коэффициент ассиметрии выборки CTR, 1 группа = 1.0177755544972011.\n"
     ]
    }
   ],
   "source": [
    "print(f'Коэффициент ассиметрии выборки CTR, 2 группа = {stats.skew(df.CTR[df.exp_group == 2], bias=False)};\\n\\\n",
    "Коэффициент ассиметрии выборки CTR, 1 группа = {stats.skew(df.CTR[df.exp_group == 1], bias=False)}.')"
   ]
  },
  {
   "cell_type": "markdown",
   "id": "795f72df-fce2-4aca-b94d-c1f2f6c5c59c",
   "metadata": {},
   "source": [
    "Рассчитанный коэф. ассиметрии для обоих выборок, подтверждает, что выборки имеют значительный скос в правую сторону.\n",
    "    \n",
    "Также выполним тест Шапиро-Уилка, чтобы точно понять распределены ли наши значения в выборках согласно нормальному распределению или нет."
   ]
  },
  {
   "cell_type": "code",
   "execution_count": 20,
   "id": "ed75b8e0-f934-42a6-b7f2-e626acb753ea",
   "metadata": {},
   "outputs": [
    {
     "name": "stdout",
     "output_type": "stream",
     "text": [
      "Тест Шапиро-Уилки тестовая группа p-value - 0.0;\n",
      "Тест Шапиро-Уилки тестовая группа p-value - 0.0.\n"
     ]
    }
   ],
   "source": [
    "st, pvalue = stats.shapiro(df.CTR[df.exp_group == 2])\n",
    "st1, pvalue1 = stats.shapiro(df.CTR[df.exp_group == 1])\n",
    "print(f'Тест Шапиро-Уилки тестовая группа p-value - {pvalue};\\n\\\n",
    "Тест Шапиро-Уилки тестовая группа p-value - {pvalue1}.')"
   ]
  },
  {
   "cell_type": "markdown",
   "id": "53e587d5-e718-4543-8472-bd36e32e1397",
   "metadata": {},
   "source": [
    "p-value в обоих случаях меньше α = 0,05, что дает нам право отклонить нулевую гипотезу о нормальности распределение в обоих выборках."
   ]
  },
  {
   "cell_type": "markdown",
   "id": "f648f59a-3ba1-4a1b-8e91-2203bf413602",
   "metadata": {
    "tags": []
   },
   "source": [
    "Посмотрим на распределения на графике."
   ]
  },
  {
   "cell_type": "code",
   "execution_count": 21,
   "id": "4fee02ca-feec-424e-b8d7-b1bceb2459a2",
   "metadata": {},
   "outputs": [
    {
     "data": {
      "image/png": "[encoded data removed]",
      "text/plain": [
       "<Figure size 1080x576 with 1 Axes>"
      ]
     },
     "metadata": {
      "needs_background": "light"
     },
     "output_type": "display_data"
    },
    {
     "data": {
      "image/png": "[encoded data removed]",
      "text/plain": [
       "<Figure size 1080x360 with 1 Axes>"
      ]
     },
     "metadata": {
      "needs_background": "light"
     },
     "output_type": "display_data"
    }
   ],
   "source": [
    "# Построим boxplot и гистограмму распределния интересущей нас метрики \"CTR\" с разделением на тестовые группы, чтобы визуально сравнить две выборки.\n",
    "\n",
    "plt.figure(figsize=(15, 8))\n",
    "sns.histplot(x=df.CTR, hue=df.exp_group, palette='spring')\n",
    "plt.show()\n",
    "\n",
    "plt.figure(figsize=(15, 5))\n",
    "sns.boxplot(x=df.CTR, y=df.exp_group, orient='h')\n",
    "plt.show()"
   ]
  },
  {
   "cell_type": "markdown",
   "id": "ab134681-13b7-4416-87da-97d49014061d",
   "metadata": {},
   "source": [
    "При визуальном анализе распределения CTR в группе 2 видим большую вариативность. Выборка не является однородной, можно сказать что пользователи в тестовой группе разделились на 2 лагеря, у большего количества пользователей CTR значительно меньше, чем у контрольной группы, тогда как у оставшихся пользователей 2 группы CTR вырос.\n",
    "В данном случае, учитывая, что распределения в выборках не является нормальным, наблюдается скос распределения вправую сторону, видны значительные выборосы в обоих выборках, а распределение в тестовой группе скорее напоминает две выборки, чем одну, использовать для сравнения t-критерий не целесообразно, результаты будут не корректны. КОрректней будет использовать тест Манна-Уитни.\n",
    "    \n",
    "Так как CTR это относительная величина, следует посмотреть на пользователей в тестовой группе у которых оказалось мало просмотров и при этом они имеют очень низкий или высокий CTR, если таких пользователей много, то это и могло повлиять на существенное разделение выборки на 2 лагеря. Если это действительно так, то в данном случае нам может помочь сглаживание CTR. Также не лишним будет взглянуть на общее распределения количества просмотров постов по группам."
   ]
  },
  {
   "cell_type": "code",
   "execution_count": 22,
   "id": "c5bdfd7f-e80d-4473-94ab-a74c412fbc6f",
   "metadata": {},
   "outputs": [
    {
     "name": "stdout",
     "output_type": "stream",
     "text": [
      "Всего пользователей в тестовой группе, у которых меньше 10 просмотренных постов за анализируемый период - 136.\n",
      "Пользователей, у которых меньше 10 просмотров и CTR меньше 0,2 - 48.\n",
      "Пользователей, у которых меньше 10 просмотров и CTR больше 0,2 - 86.\n"
     ]
    }
   ],
   "source": [
    "print(f'Всего пользователей в тестовой группе, у которых меньше 10 просмотренных постов за анализируемый период - \\\n",
    "{len(df[(df.views < 10) & (df.exp_group == 2)])}.\\n\\\n",
    "Пользователей, у которых меньше 10 просмотров и CTR меньше 0,2 - \\\n",
    "{len(df[(df.views < 10) & (df.exp_group == 2) & (df.CTR < 0.2)])}.\\n\\\n",
    "Пользователей, у которых меньше 10 просмотров и CTR больше 0,2 - \\\n",
    "{len(df[(df.views < 10) & (df.exp_group == 2) & (df.CTR > 0.2)])}.')"
   ]
  },
  {
   "cell_type": "code",
   "execution_count": 23,
   "id": "0be1f77e-e5af-48c5-917c-8fa8b5bc947a",
   "metadata": {},
   "outputs": [
    {
     "data": {
      "image/png": "[encoded data removed]",
      "text/plain": [
       "<Figure size 1080x720 with 1 Axes>"
      ]
     },
     "metadata": {
      "needs_background": "light"
     },
     "output_type": "display_data"
    }
   ],
   "source": [
    "# Построим гисторграмму распределения просмотров.\n",
    "\n",
    "plt.figure(figsize=(15, 10))\n",
    "sns.histplot(x=df.views, hue=df.exp_group, palette='summer')\n",
    "plt.show()"
   ]
  },
  {
   "cell_type": "code",
   "execution_count": 24,
   "id": "03ab0e22-2f5e-4124-9058-eb43e8cfccea",
   "metadata": {},
   "outputs": [
    {
     "name": "stdout",
     "output_type": "stream",
     "text": [
      "Ttest_indResult(statistic=0.23743803558240428, pvalue=0.8123194142018666)\n"
     ]
    },
    {
     "data": {
      "text/plain": [
       "MannwhitneyuResult(statistic=50312084.5, pvalue=0.6976248926750942)"
      ]
     },
     "execution_count": 24,
     "metadata": {},
     "output_type": "execute_result"
    }
   ],
   "source": [
    "print(stats.ttest_ind(df.views[df.exp_group == 1], df.views[df.exp_group == 2], equal_var=False))\n",
    "stats.mannwhitneyu(df.views[df.exp_group == 1], df.views[df.exp_group == 2])"
   ]
  },
  {
   "cell_type": "markdown",
   "id": "50966a6d-ec00-4b94-b0bb-499fe7b71eef",
   "metadata": {},
   "source": [
    "В целом распределение кол-ва просмотров по группам схожи, что видно из графика. Также полученные результаты t-критерия и теста Манна-Уитни не дают нам оснований для отвержения нулевой гипотезы о неравенстве выборок, p-value в обоих тестах значительно выше значения α.\n",
    "\n",
    "Количество пользователей с просмотрами меньше 10 постов и которые могли бы существенно повлиять на полученные результаты CTR в выборке не велико, а следовательно при сглаживании CTR мы существенно картину распределения не поменяем.\n",
    "\n",
    "Итак для сравнения CTR в группах мы будем использовать тест Манна-Уитни и Пуассоновский бутстреп для сравнения разниц общегруппового CTR. Хотя уже на данном этапе можно сказать, что новый алгоритм подбора постов работает некорректно."
   ]
  },
  {
   "cell_type": "code",
   "execution_count": 25,
   "id": "87fff1ff-7916-4d4e-9ccc-7d80573fd942",
   "metadata": {},
   "outputs": [
    {
     "name": "stdout",
     "output_type": "stream",
     "text": [
      "Двусторонняя гипотеза, p-value - 0.0;\n",
      "Односторонняя гипотеза, (CTR в первой группе меньше, чем во второй) p-value - 1.0;\n",
      "Односторонняя гипотеза, (CTR в первой группе больше, чем во второй) p-value - 0.0.\n"
     ]
    }
   ],
   "source": [
    "# Тест Манна-Уитни, проверим для всех гипотиз (двустороння гипотеза, лево- и правостороннии гепотезы)\n",
    "\n",
    "a = stats.mannwhitneyu(df.CTR[df.exp_group == 1], df.CTR[df.exp_group == 2])\n",
    "b = stats.mannwhitneyu(df.CTR[df.exp_group == 1], df.CTR[df.exp_group == 2], alternative='less')\n",
    "c = stats.mannwhitneyu(df.CTR[df.exp_group == 1], df.CTR[df.exp_group == 2], alternative='greater')\n",
    "\n",
    "print(f'Двусторонняя гипотеза, p-value - {round(a[1], 2)};\\n\\\n",
    "Односторонняя гипотеза, (CTR в первой группе меньше, чем во второй) p-value - {round(b[1], 2)};\\n\\\n",
    "Односторонняя гипотеза, (CTR в первой группе больше, чем во второй) p-value - {round(c[1], 2)}.')"
   ]
  },
  {
   "cell_type": "markdown",
   "id": "c691e4ab-dbab-4bda-85c9-9fd7becde06a",
   "metadata": {},
   "source": [
    "Исходя из полученных результатов теста при уровне α=0,05, можно сказать следующее:\n",
    "- для двухсторонней гипотези Н0 отвергается, p-value = 0, следовательно вероятность получений большего значения из одной выборки выше, чем из другой;\n",
    "- осташиеся тесты дают понять, что значения в первой выборке больше, чем значений во второй."
   ]
  },
  {
   "cell_type": "code",
   "execution_count": 26,
   "id": "28da46d3-d0b7-46ea-a4e6-6b1b2a5e74d1",
   "metadata": {},
   "outputs": [],
   "source": [
    "# Реализуем бутстреп.\n",
    "\n",
    "def p_bootstrap(likes1, views1, likes2, views2, n_bootstrap):\n",
    "    pb1 = stats.poisson(1).rvs((n_bootstrap, len(likes1))).astype(np.int64)\n",
    "    pb2 = stats.poisson(1).rvs((n_bootstrap, len(likes2))).astype(np.int64)\n",
    "    \n",
    "    G_CTR1 = (np.array(likes1) * pb1).sum(axis=1) / (np.array(views1) * pb1).sum(axis=1)\n",
    "    G_CTR2 = (np.array(likes2) * pb2).sum(axis=1) / (np.array(views2) * pb2).sum(axis=1)\n",
    "    return G_CTR1, G_CTR2"
   ]
  },
  {
   "cell_type": "code",
   "execution_count": 27,
   "id": "0ad6e8e2-9f00-46a7-b251-179628d7c155",
   "metadata": {},
   "outputs": [],
   "source": [
    "# Воспользуемся функцией для получения рассчитаных CTR для групп. \n",
    "G_CTR1, G_CTR2 = p_bootstrap(df.likes[df.exp_group == 1],\\\n",
    "                             df.views[df.exp_group == 1],\\\n",
    "                             df.likes[df.exp_group == 2],\\\n",
    "                             df.views[df.exp_group == 2],\\\n",
    "                             1000)\n",
    "\n",
    "# Запишим результат в датафрейм и сразу посчитаем разницу для каждого результата между G_CTR1 и G_CTR2, запишем в отдельный столбец.\n",
    "\n",
    "df_ctr = pd.concat([pd.DataFrame(G_CTR1, columns=['G_CTR1']),\\\n",
    "                    pd.DataFrame(G_CTR2, columns=['G_CTR2'])],\\\n",
    "                   axis=1)\n",
    "df_ctr['diff'] = df_ctr.G_CTR1 - df_ctr.G_CTR2"
   ]
  },
  {
   "cell_type": "code",
   "execution_count": 28,
   "id": "9c0b841b-7e3c-4815-a4b6-d5239e556564",
   "metadata": {},
   "outputs": [
    {
     "name": "stdout",
     "output_type": "stream",
     "text": [
      "<class 'pandas.core.frame.DataFrame'>\n",
      "RangeIndex: 1000 entries, 0 to 999\n",
      "Data columns (total 3 columns):\n",
      " #   Column  Non-Null Count  Dtype  \n",
      "---  ------  --------------  -----  \n",
      " 0   G_CTR1  1000 non-null   float64\n",
      " 1   G_CTR2  1000 non-null   float64\n",
      " 2   diff    1000 non-null   float64\n",
      "dtypes: float64(3)\n",
      "memory usage: 23.6 KB\n"
     ]
    },
    {
     "data": {
      "text/html": [
       "<div>\n",
       "<style scoped>\n",
       "    .dataframe tbody tr th:only-of-type {\n",
       "        vertical-align: middle;\n",
       "    }\n",
       "\n",
       "    .dataframe tbody tr th {\n",
       "        vertical-align: top;\n",
       "    }\n",
       "\n",
       "    .dataframe thead th {\n",
       "        text-align: right;\n",
       "    }\n",
       "</style>\n",
       "<table border=\"1\" class=\"dataframe\">\n",
       "  <thead>\n",
       "    <tr style=\"text-align: right;\">\n",
       "      <th></th>\n",
       "      <th>G_CTR1</th>\n",
       "      <th>G_CTR2</th>\n",
       "      <th>diff</th>\n",
       "    </tr>\n",
       "  </thead>\n",
       "  <tbody>\n",
       "    <tr>\n",
       "      <th>0</th>\n",
       "      <td>0.206717</td>\n",
       "      <td>0.199040</td>\n",
       "      <td>0.007676</td>\n",
       "    </tr>\n",
       "    <tr>\n",
       "      <th>1</th>\n",
       "      <td>0.208721</td>\n",
       "      <td>0.194804</td>\n",
       "      <td>0.013917</td>\n",
       "    </tr>\n",
       "    <tr>\n",
       "      <th>2</th>\n",
       "      <td>0.207217</td>\n",
       "      <td>0.197501</td>\n",
       "      <td>0.009717</td>\n",
       "    </tr>\n",
       "  </tbody>\n",
       "</table>\n",
       "</div>"
      ],
      "text/plain": [
       "     G_CTR1    G_CTR2      diff\n",
       "0  0.206717  0.199040  0.007676\n",
       "1  0.208721  0.194804  0.013917\n",
       "2  0.207217  0.197501  0.009717"
      ]
     },
     "execution_count": 28,
     "metadata": {},
     "output_type": "execute_result"
    }
   ],
   "source": [
    "# Проверим, что у нас все корректно сработало, посмотрим датафрейм.\n",
    "\n",
    "df_ctr.info()\n",
    "df_ctr.head(3)"
   ]
  },
  {
   "cell_type": "code",
   "execution_count": 29,
   "id": "85385a8e-5609-43cf-8b61-df54346a8506",
   "metadata": {},
   "outputs": [
    {
     "data": {
      "image/png": "[encoded data removed]",
      "text/plain": [
       "<Figure size 1080x576 with 1 Axes>"
      ]
     },
     "metadata": {
      "needs_background": "light"
     },
     "output_type": "display_data"
    },
    {
     "data": {
      "image/png": "[encoded data removed]",
      "text/plain": [
       "<Figure size 864x432 with 1 Axes>"
      ]
     },
     "metadata": {
      "needs_background": "light"
     },
     "output_type": "display_data"
    }
   ],
   "source": [
    "# Визуализируем полученные результаты.\n",
    "\n",
    "plt.figure(figsize=(15, 8))\n",
    "sns.histplot(data=[df_ctr.G_CTR1, df_ctr.G_CTR2], bins=100)\n",
    "plt.show()\n",
    "plt.figure(figsize=(12, 6))\n",
    "sns.histplot(x=df_ctr['diff'])\n",
    "plt.show()"
   ]
  },
  {
   "cell_type": "markdown",
   "id": "4d7ea71b-f111-44de-b00e-0dbe3091f748",
   "metadata": {},
   "source": [
    "В целом после визуального сравнения рассчитанных global CTR видно, что показатели не пересекаются и CTR в контрольной группы выше нежели в тестовой. Разница в нашем случае положительная, т.к. из CTR 1 группы вычитался CTR 2 группы.\n",
    "Пуассоновский бутстреп подтвердил наше предположение о том, что новый алгорит не увеличил CTR в тестовой группе по сравнению с контрольной, а наоборот ухудшил данный показатель. \n",
    "\n",
    "Мысли по поводу, почему могло так произойти.\n",
    "Сдесь следует отметить, что пользователи в тестовой выборке разбилась на две группы и у одной из них CTR был значительно выше, чем во второй. Поэтому следует проанализировать пользователей в тестовой группе, чтобы лучше понимать, почему так произошло и на основе анализа вносить корректировки в алгоритм подбора постов. Вероятней всего алгоритм не работает корректно на всех группах пользователей (к примеру по полу, территории, возрасту и тд.) поэтому пользователи в тестовой выборки и разделились.\n",
    "\n",
    "После анализа полученных данных АВ теста, можно однозначно отказаться от раскатки нового алгоритма (по крайней мере в том виде, в котором он есть) на всех пользователей."
   ]
  }
 ],
 "metadata": {
  "kernelspec": {
   "display_name": "Python 3 (ipykernel)",
   "language": "python",
   "name": "python3"
  },
  "language_info": {
   "codemirror_mode": {
    "name": "ipython",
    "version": 3
   },
   "file_extension": ".py",
   "mimetype": "text/x-python",
   "name": "python",
   "nbconvert_exporter": "python",
   "pygments_lexer": "ipython3",
   "version": "3.9.13"
  }
 },
 "nbformat": 4,
 "nbformat_minor": 5
}
